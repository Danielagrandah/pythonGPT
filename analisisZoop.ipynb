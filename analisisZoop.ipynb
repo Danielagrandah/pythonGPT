import pandas as pd
import numpy as np
import json


# **Carga de datos***

# Cargar el JSON desde la URL
url = 'https://gist.githubusercontent.com/ahcamachod/4b964953032a2078d67052ec8fb92e72/raw/8106d7c3f001390744ec3aa657b9847f306c9df8/zoop_supermercado.json'

df = pd.read_json(url)


# **Exporación de los Datos**

df.head

item_df = pd.json_normalize(df['item'])
tienda_df = pd.json_normalize(df['tienda'])


# Concatenar los DataFrames expandidos con el DataFrame original (excluyendo las columnas originales 'item' y 'tienda')
df = pd.concat([df.drop(['item', 'tienda'], axis=1), item_df, tienda_df], axis=1)


df.head()

df.tail()

# Verificar las dimensiones del DataFrame (número de registros y columnas)
df.shape

# Verificar el tipo de datos de cada columna
df.dtypes



#en la tabla df.dtypes vimos los tipos de datos y esta vamos a ver el resumen estadistico  de los tipos de datos float64 e int es decir tipos de datos(Cuantitativos - numericos )
df.describe()

#para ver los valores faltantes
#df.info(memory_usage='deep')- par ver uso real de memoria
df.info()



#Esto ayuda a detectar columnas con datos incompletos y definir estrategias para manejar los valores ausentes
df.isnull().sum()


#Cantidad de registros duplicados
df.duplicated().sum()

#Estadísticas descritivas también para columnas no numéricas (objetos)
df.describe(include='object')

# Ver la cantidad de valores únicos por columna
df.nunique()

# Comprobar si hay filas con IDs duplicados (ejemplo: misma tienda y mismo item)
df.duplicated(subset=['item_identificador', 'tienda_identificador']).sum()


df = df.drop_duplicates()

df.isnull().sum()

#iloc para ver un rago especifico de columnas
df.iloc[500:551]


df[df['item_peso'].isnull()]

df[df['tienda_identificador'] == 'OUT027']

df['item_peso'].mean()

# Limpieza de Datos


#eliminar la columna item_cantidad_venta
df = df.drop(columns=['item_cantidad_venta'])

#Rellenar los valores null con la media
# Esto aplica para el ejercicio pero no siempre funciona para casos donde se este entrenando un modelo maching learning
df['item_peso'] = df['item_peso'].fillna(df['item_peso'].mean())

#Cambiar los valores vacios por la palabra 'Desconocido'
df['tienda_tamano'] = df['tienda_tamano'].fillna('Desconocido')

df.describe()

df.nunique()

df['item_contenido_grasa'].value_counts().index

df['item_contenido_grasa'] = df['item_contenido_grasa'].replace({
    'bajo contenido de grasa': 'Bajo Contenido de Grasa',
    'BCG': 'Bajo Contenido de Grasa',
    'reg': 'Regular'
})


# Visualización

ventas_por_tamano = df.groupby('tienda_tamano')['ventas_totales'].sum().reset_index()


import matplotlib.pyplot as plt

plt.figure(figsize=(8, 5))
plt.bar(ventas_por_tamano['tienda_tamano'], ventas_por_tamano['ventas_totales'], color='steelblue')
plt.title('Ventas Totales por Tamaño de Tienda')
plt.xlabel('Tamaño de la Tienda')
plt.ylabel('Ventas Totales')
plt.xticks(rotation=0)
plt.tight_layout()
plt.show()


import seaborn as sns
import matplotlib.pyplot as plt

plt.figure(figsize=(8, 5))
plt.title('Ventas Totales por Tamaño de Tienda')
plt.xlabel('Tamaño de la Tienda')
plt.ylabel('Ventas Totales')
plt.xticks(rotation=0)
grafico = sns.barplot(data=ventas_por_tamano, x='tienda_tamano', y='ventas_totales', color='steelblue')

# Agregar etiquetas encima de cada barra
for bar in grafico.patches:
    altura = bar.get_height()
    grafico.text(bar.get_x() + bar.get_width()/2,
                 altura,
                 f'{altura:,.0f}',
                 ha='center', va='bottom')


plt.title('Ventas Totales por Tamaño de Tienda')
sns.barplot(data=df, x='tienda_tamano', y='ventas_totales', estimator='sum', palette='pastel')


plt.title('Ventas Totales por Contenido de Grasa')
sns.barplot(data=df, x='item_contenido_grasa', y='ventas_totales', estimator='sum', palette='pastel')

df.head()


# Grafico generado revisando la documentacion de Seaborn

plt.title('Ventas Totales por Tamaño de Tienda')
plt.ylabel('Ventas Totales')
plt.xlabel('Categoria Producto')
plt.xticks(rotation=90)
sns.barplot(df, x="item_tipo", y="ventas_totales", hue="item_tipo" , palette='rocket')



# Grafico generado con Chat Gpt
Prompt:
El DataFrame "df" contiene la columna "ventas_totales", que informa el valor en reales obtenido en ventas de productos por varias tiendas.

Además, en "df", tenemos la columna "tienda_tamano" con 4 categorías de tamaño para tiendas: 'Grande', 'Medio', 'Pequeño' y 'No registrado'.

Deseo crear una visualización que permita identificar el total obtenido en ventas para las cuatro categorías de tamaño de tienda y representarlas en un gráfico de barras.

Los datos en la columna "ventas_totales" necesitan ser agrupados por las categorías de "tienda_tamano".

La figura del gráfico debe seguir la identidad visual de la tienda, con el fondo de la figura y del gráfico en color "#ebebeb" y las barras en color "#e23155".

Además, es necesario mostrar el total de las ventas en millones encima de cada columna, con el texto de esta información en color "#19325c" y la estructura "MXN $ valor M".

Utiliza las bibliotecas de visualización de datos de Python para crear esta visualización.




import seaborn as sns
import matplotlib.pyplot as plt
import pandas as pd

# Asumimos que df ya está cargado y contiene las columnas 'ventas_totales' y 'tienda_tamano'

# Agrupar los datos por 'tienda_tamano' y obtener la suma de 'ventas_totales' por cada categoría
ventas_por_tamano = df.groupby('tienda_tamano')['ventas_totales'].sum().reset_index()

# Configurar la figura con el color de fondo deseado
plt.figure(figsize=(10, 6), facecolor='#ebebeb')

# Crear el gráfico de barras
sns.barplot(data=ventas_por_tamano, x='tienda_tamano', y='ventas_totales', palette=['#e23155'])

# Personalizar el fondo del gráfico
plt.gca().set_facecolor('#ebebeb')

# Títulos y etiquetas
plt.title('Ventas Totales por Tamaño de Tienda', fontsize=16, color="#19325c")
plt.xlabel('Tamaño de la Tienda', fontsize=12, color="#19325c")
plt.ylabel('Ventas Totales (MXN)', fontsize=12, color="#19325c")

# Agregar las etiquetas encima de cada barra (mostrar las ventas en millones)
for i in range(len(ventas_por_tamano)):
    # Convertir las ventas totales a millones
    valor_ventas = ventas_por_tamano.loc[i, 'ventas_totales'] / 1_000_000
    # Agregar el texto encima de la barra
    plt.text(i, ventas_por_tamano.loc[i, 'ventas_totales'] + 0.01 * ventas_por_tamano['ventas_totales'].max(),
             f'MXN $ {valor_ventas:.2f} M', ha='center', va='bottom', fontsize=11, color='#19325c')

# Ajustar el diseño para que todo encaje bien
plt.tight_layout()

# Mostrar el gráfico
plt.show()


El DataFrame "df" contiene la columna "ventas_totales", que informa el valor en reales obtenido en ventas de productos por varias tiendas.

Además, en "df", tenemos la columna "tienda_tipo" con 4 categorías de tipo para tiendas: 'Supermercado Tipo 1', 'Supermercado Tipo 2', 'Mercado', 'Supermercado Tipo 3'.

Deseo crear una visualización que permita identificar el total obtenido en ventas para las cuatro categorías de tipo de tienda y representarlas en un gráfico de barras.

Los datos en la columna "ventas_totales" deben ser agrupados por las categorías de "tienda_tipo".

La figura de la gráfica debe seguir la identidad visual de la tienda, con el fondo de la figura y de la gráfica en color "#ebebeb" y las barras en color "#e23155".

Además, es necesario mostrar el total de las ventas en millones sobre cada columna, con el texto de esa información en color "#19325c" y la estructura "MXN$ valor M".

Utiliza las bibliotecas de visualización de datos de Python para crear esta visualización.

import seaborn as sns
import matplotlib.pyplot as plt
import pandas as pd

# Suponemos que 'df' ya está cargado con las columnas 'ventas_totales' y 'tienda_tipo'

# Agrupar las ventas totales por 'tienda_tipo'
ventas_por_tipo_tienda = df.groupby('tienda_tipo')['ventas_totales'].sum().reset_index()

# Configurar la figura con el color de fondo deseado
plt.figure(figsize=(10, 6), facecolor='#ebebeb')

# Crear el gráfico de barras
sns.barplot(data=ventas_por_tipo_tienda, x='tienda_tipo', y='ventas_totales', palette=['#e23155'])

# Personalizar el fondo del gráfico
plt.gca().set_facecolor('#ebebeb')

# Títulos y etiquetas
plt.title('Ventas Totales por Tipo de Tienda', fontsize=16, color="#19325c")
plt.xlabel('Tipo de Tienda', fontsize=12, color="#19325c")
plt.ylabel('Ventas Totales (MXN)', fontsize=12, color="#19325c")

# Agregar las etiquetas encima de cada barra (mostrar las ventas en millones)
for i in range(len(ventas_por_tipo_tienda)):
    # Convertir las ventas totales a millones
    valor_ventas = ventas_por_tipo_tienda.loc[i, 'ventas_totales'] / 1_000_000
    # Agregar el texto encima de la barra
    plt.text(i, ventas_por_tipo_tienda.loc[i, 'ventas_totales'] + 0.01 * ventas_por_tipo_tienda['ventas_totales'].max(),
             f'MXN$ {valor_ventas:.2f} M', ha='center', va='bottom', fontsize=11, color='#19325c')

# Ajustar el diseño para que todo encaje bien
plt.tight_layout()

# Mostrar el gráfico
plt.show()


El DataFrame "df" contiene la columna "ventas_totales", que informa el valor en reales obtenido en ventas de productos por varias tiendas.

Además, en "df", tenemos la columna "item_tipo" con 16 categorías de productos.

Deseo crear una visualización que permita identificar el total obtenido en ventas por categorías de productos en un gráfico de barras horizontales.

Los datos en la columna "ventas_totales" deben agruparse por las categorías de "item_tipo".

La figura de la representación debe seguir la identidad visual de la tienda, con el fondo de la figura y del gráfico en el color "#ebebeb".

Las barras deben estar en el color "#e23155".

Los valores de las barras deben estar ordenados para mantener un aspecto de embudo.

Además, es necesario mostrar el total de las ventas en millones dentro o al lado de cada barra, con el texto de esa información en el color "#19325c" y en la estructura "MXN$ valor M".

No muestres la cuadrícula en el gráfico.

Utiliza las bibliotecas de visualización de datos de Python para crear esta visualización.



# Asumimos que 'df' ya está cargado con las columnas 'ventas_totales' y 'item_tipo'

# Agrupar las ventas totales por 'item_tipo'
ventas_por_item_tipo = df.groupby('item_tipo')['ventas_totales'].sum().reset_index()

# Ordenar los valores de las ventas de mayor a menor
ventas_por_item_tipo = ventas_por_item_tipo.sort_values(by='ventas_totales', ascending=True)

# Configurar la figura con el color de fondo deseado
plt.figure(figsize=(10, 6), facecolor='#ebebeb')

# Crear el gráfico de barras horizontales
sns.barplot(data=ventas_por_item_tipo, y='item_tipo', x='ventas_totales', palette=['#e23155'])

# Personalizar el fondo del gráfico
plt.gca().set_facecolor('#ebebeb')

# Títulos y etiquetas
plt.title('Ventas Totales por Tipo de Producto', fontsize=16, color="#19325c")
plt.xlabel('Ventas Totales (MXN)', fontsize=12, color="#19325c")
plt.ylabel('Tipo de Producto', fontsize=12, color="#19325c")

# Eliminar la cuadrícula
plt.grid(False)

# Agregar las etiquetas de ventas en millones dentro de o al lado de las barras
for i in range(len(ventas_por_item_tipo)):
    # Convertir las ventas totales a millones
    valor_ventas = ventas_por_item_tipo.loc[i, 'ventas_totales'] / 1_000_000
    # Agregar el texto dentro o al lado de la barra
    plt.text(ventas_por_item_tipo.loc[i, 'ventas_totales'] + 0.05 * ventas_por_item_tipo['ventas_totales'].max(),
             i, f'MXN$ {valor_ventas:.2f} M', ha='left', va='center', fontsize=11, color='#19325c')

# Ajustar el diseño para que todo encaje bien
plt.tight_layout()

# Mostrar el gráfico
plt.show()
